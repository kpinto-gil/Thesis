{
 "cells": [
  {
   "cell_type": "code",
   "execution_count": 1,
   "metadata": {},
   "outputs": [],
   "source": [
    "import pandas as pd\n",
    "import rdkit.Chem\n",
    "from rdkit.Chem import PandasTools as pt\n",
    "from flame_help import *\n",
    "import os\n",
    "import glob\n",
    "import copy\n",
    "import numpy as np\n",
    "import itertools\n",
    "from flame.util import *\n",
    "from flame_help import *\n",
    "import flame.manage"
   ]
  },
  {
   "cell_type": "code",
   "execution_count": 2,
   "metadata": {},
   "outputs": [],
   "source": [
    "#var = pd.read_csv(\"variables.tsv\", '\\t')"
   ]
  },
  {
   "cell_type": "code",
   "execution_count": 160,
   "metadata": {},
   "outputs": [],
   "source": [
    "# Read datasets\n",
    "\n",
    "rank_most = pd.read_csv('predictions_mostdilirank_0.15.tsv', sep='\\t')\n",
    "#rank_less = pd.read_csv('', sep='\\t')\n",
    "mul = pd.read_csv('predictions_mulliner_0.15.tsv', sep='\\t')\n",
    "pfizer = pd.read_csv('predictions_pfizer_0.15.tsv', sep='\\t')\n",
    "obrien = pd.read_csv('predictions_obrien_0.15.tsv', sep='\\t')\n",
    "# rank_most = rank_most.rename(columns={\"vDILI\" : \"DILI\"})\n",
    "# #rank_less = rank_less.rename(columns={\"lessdilirank\" : \"DILI\"})\n",
    "# mul = mul.rename(columns={\"vDILI\" : \"DILI\"})\n",
    "# pfizer = pfizer.rename(columns={\"activity\" : \"DILI\"})\n",
    "# obrien = obrien.rename(columns={\"DILI positive/negative as observed\" : \"DILI\"})\n",
    "\n",
    "#Sort the columns propertly\n",
    "columns= []\n",
    "columns = list(rank_most.columns[:]) #  + list(rank_most.columns[:])\n",
    "\n",
    "rank_most = rank_most[columns]\n",
    "#rank_less = rank_less[columns]\n",
    "pfizer = pfizer[columns]\n",
    "mul = mul[columns]\n",
    "obrien = obrien[columns]"
   ]
  },
  {
   "cell_type": "code",
   "execution_count": 98,
   "metadata": {},
   "outputs": [],
   "source": [
    "db_sdf = pt.LoadSDF('Drugbank_plus_mulliner_dilirank_pfizer_obrien_nooverlap.sdf')"
   ]
  },
  {
   "cell_type": "code",
   "execution_count": 99,
   "metadata": {},
   "outputs": [],
   "source": [
    "negatives = db[db_sdf['origin'] == 'drugbank']"
   ]
  },
  {
   "cell_type": "code",
   "execution_count": 100,
   "metadata": {},
   "outputs": [],
   "source": [
    "db = pd.read_csv('predictions_drugbank_0.15.tsv', sep='\\t')"
   ]
  },
  {
   "cell_type": "code",
   "execution_count": 147,
   "metadata": {},
   "outputs": [],
   "source": [
    "pfizer = pd.concat((pfizer, negatives[37:74]), axis=0)\n",
    "#rank_most = pd.concat((rank_most, negatives), axis=0)\n",
    "#obrien = pd.concat((obrien, negatives), axis=0)\n",
    "#mul = pd.concat((mul, negatives[306:612]), axis=0)"
   ]
  },
  {
   "cell_type": "code",
   "execution_count": 76,
   "metadata": {},
   "outputs": [
    {
     "data": {
      "text/plain": [
       "(2965, 13)"
      ]
     },
     "execution_count": 76,
     "metadata": {},
     "output_type": "execute_result"
    }
   ],
   "source": [
    "mul.shape"
   ]
  },
  {
   "cell_type": "code",
   "execution_count": 183,
   "metadata": {},
   "outputs": [],
   "source": [
    "par = {'model' : ['RF'],\n",
    "           'conformalSignificance': [0.10, 0.15, 0.20],\n",
    "           'imbalance' : [\"simple_subsampling\"],\n",
    "           'quantitative' : [False],\n",
    "           'tune' : [True],\n",
    "           'conformal' : [True],\n",
    "           'computeMD_method' : [['RDKit_md']],\n",
    "           'input_type' : ['data'], \n",
    "           'TSV_activity' : ['DILI'],\n",
    "           'TSV_objnames' : [True],\n",
    "           'TSV_varname' : [True],\n",
    "           'modelAutoscaling' : ['StandardScaler'],\n",
    "            'feature_selection': ['Kbest'],\n",
    "            'feature_number' : [3, 5, 7, 9 ,11]}\n",
    "it = itertools.product(par['model'], par['conformalSignificance'], par['imbalance'],\n",
    "                      par['quantitative'], par['tune'], par['conformal'], \n",
    "                      par['computeMD_method'], par['input_type'], par['TSV_activity'], par['TSV_objnames'],\n",
    "                      par['TSV_varname'], par['modelAutoscaling'], par['feature_selection'],\n",
    "                      par['feature_number'])"
   ]
  },
  {
   "cell_type": "code",
   "execution_count": 184,
   "metadata": {},
   "outputs": [],
   "source": [
    "config = \"\"\n",
    "for index, config in enumerate(copy.copy(it)):\n",
    "    config = dict(zip(par.keys(), list(config)))\n"
   ]
  },
  {
   "cell_type": "code",
   "execution_count": null,
   "metadata": {},
   "outputs": [],
   "source": []
  },
  {
   "cell_type": "code",
   "execution_count": 185,
   "metadata": {},
   "outputs": [],
   "source": [
    "databases =  {'rank_most' : rank_most,\n",
    "                # 'rank_less' : rank_less,\n",
    "                  'pfizer' : pfizer,\n",
    "                 'obrien' : obrien,\n",
    "                 'mulliner' : mul}"
   ]
  },
  {
   "cell_type": "code",
   "execution_count": 186,
   "metadata": {},
   "outputs": [],
   "source": [
    "def remove_duplicates(database2, database):\n",
    "    database2 = database2[~database2['parent_nonstd_inkey'].isin(database['parent_nonstd_inkey'])]\n",
    "    return database2"
   ]
  },
  {
   "cell_type": "code",
   "execution_count": 202,
   "metadata": {},
   "outputs": [
    {
     "name": "stderr",
     "output_type": "stream",
     "text": [
      "INFO - Running with input type: data\n",
      "INFO - Building model using internal toolkit : Sci-kit learn\n",
      "INFO - Subsampling of positive instances\n",
      "INFO - simple_subsampling performed\n",
      "INFO - Number of objects after sampling: 110\n",
      "INFO - Data scaled using StandarScaler\n",
      "INFO - Variable selection applied, number of final variables:11\n",
      "INFO - cv is: LeaveOneOut()\n",
      "INFO - Starting model building\n",
      "INFO - Computing best hyperparameter values\n"
     ]
    },
    {
     "name": "stdout",
     "output_type": "stream",
     "text": [
      "(177, 13)\n",
      "(147, 13)\n",
      "('RF', 0.1, 'simple_subsampling', False, True, True, ['RDKit_md'], 'data', 'DILI', True, True, 'StandardScaler', 'Kbest', 11)\n"
     ]
    },
    {
     "name": "stderr",
     "output_type": "stream",
     "text": [
      "INFO - best parameters: , {'class_weight': None, 'max_features': 'sqrt', 'n_estimators': 50}\n",
      "INFO - Building aggregated conformal RF model\n",
      "INFO - Starting model validation\n",
      "INFO - Model finished successfully\n",
      "INFO - Running with input type: data\n"
     ]
    },
    {
     "name": "stdout",
     "output_type": "stream",
     "text": [
      "       nobj ( number of objects ) : 110.0\n",
      "       nvarx ( number of predictor variables ) : 11.0\n",
      "       model ( model type ) : RF qualitative (optimized)\n",
      "       model ( model type ) : conformal RF qualitative\n",
      "       TP ( True positives in cross-validation ) : 0.0\n",
      "       TN ( True negatives in cross-validation ) : 3.0\n",
      "       FP ( False positives in cross-validation ) : 0.0\n",
      "       FN ( False negatives in cross-validation ) : 5.0\n",
      "       Sensitivity ( Sensitivity in cross-validation ) : 0.0\n",
      "       Specificity ( Specificity in cross-validation ) : 1.0\n",
      "       MCC ( Matthews Correlation Coefficient in cross-validation ) : nan\n",
      "       Conformal_coverage ( Conformal coverage ) : 0.0727\n",
      "       Conformal_accuracy ( Conformal accuracy ) : 0.375\n",
      "pfizer\n",
      "rank_most\n"
     ]
    },
    {
     "name": "stderr",
     "output_type": "stream",
     "text": [
      "INFO - Running with input type: data\n"
     ]
    },
    {
     "name": "stdout",
     "output_type": "stream",
     "text": [
      "       obj_num ( number of objects ) : 153.0\n",
      "       TP ( True positives in external-validation ) : 6.0\n",
      "       TN ( True negatives in external-validation ) : 12.0\n",
      "       FP ( False positives in external-validation ) : 2.0\n",
      "       FN ( False negatives in external-validation ) : 4.0\n",
      "       Sensitivity ( Sensitivity in external-validation ) : 0.6\n",
      "       Specificity ( Specificity in external-validation ) : 0.8571\n",
      "       MCC ( Mattews Correlation Coefficient in external-validation ) : 0.4781\n",
      "       Conformal_coverage ( Conformal coverage in external-validation ) : 0.1558\n",
      "       Conformal_accuracy ( Conformal accuracy in external-validation ) : 0.75\n",
      "obrien\n",
      "       obj_num ( number of objects ) : 22.0\n",
      "       TP ( True positives in external-validation ) : 2.0\n",
      "       TN ( True negatives in external-validation ) : 1.0\n",
      "       FP ( False positives in external-validation ) : 0.0\n",
      "       FN ( False negatives in external-validation ) : 0.0\n",
      "       Sensitivity ( Sensitivity in external-validation ) : 1.0\n",
      "       Specificity ( Specificity in external-validation ) : 1.0\n",
      "       MCC ( Mattews Correlation Coefficient in external-validation ) : 1.0\n",
      "       Conformal_coverage ( Conformal coverage in external-validation ) : 0.1304\n",
      "       Conformal_accuracy ( Conformal accuracy in external-validation ) : 1.0\n",
      "mulliner\n"
     ]
    },
    {
     "name": "stderr",
     "output_type": "stream",
     "text": [
      "INFO - Running with input type: data\n"
     ]
    },
    {
     "name": "stdout",
     "output_type": "stream",
     "text": [
      "       obj_num ( number of objects ) : 1500.0\n",
      "       TP ( True positives in external-validation ) : 104.0\n",
      "       TN ( True negatives in external-validation ) : 47.0\n",
      "       FP ( False positives in external-validation ) : 42.0\n",
      "       FN ( False negatives in external-validation ) : 41.0\n",
      "       Sensitivity ( Sensitivity in external-validation ) : 0.7172\n",
      "       Specificity ( Specificity in external-validation ) : 0.5281\n",
      "       MCC ( Mattews Correlation Coefficient in external-validation ) : 0.2459\n",
      "       Conformal_coverage ( Conformal coverage in external-validation ) : 0.1559\n",
      "       Conformal_accuracy ( Conformal accuracy in external-validation ) : 0.6453\n",
      "(40, 13)\n",
      "(1560, 13)\n"
     ]
    }
   ],
   "source": [
    "columns_val = ['combina', 'endpoint', 'version', 'model', 'TP', 'TN', 'FP', 'FN',\n",
    "           'Sensitivity', 'specificity', 'MCC', 'Coverage', 'accuracy']\n",
    "\n",
    "for name, database in databases.items():\n",
    "    print(database.shape)\n",
    "    if name == 'pfizer':\n",
    "        ext_val = []\n",
    "        for index, config in enumerate(list(copy.copy(it))[4:5]):\n",
    "            print(config)\n",
    "            config = dict(zip(par.keys(), list(config)))\n",
    "            # Write the tsv\n",
    "            name_file = name + '_meta_val.tsv'\n",
    "            database.to_csv(\"./metamodels/\" + name_file, sep='\\t', index=False)\n",
    "            # build model\n",
    "            action_new(name)\n",
    "            build_model(name, config, 'metamodels/' + name_file)\n",
    "            print(name)\n",
    "            # Run external predicitions\n",
    "            for name2, database2 in databases.items():\n",
    "                if name2 != name:\n",
    "                    print(name2)\n",
    "\n",
    "                    database2 = remove_duplicates(database2, database)\n",
    "                    # save external prediction set\n",
    "                    name_file2 = name + \"_test_on_\" + name2 + \".tsv\"\n",
    "                    database2.to_csv(\"./metamodels/test_sets/\" + name_file2, sep='\\t', index=False)\n",
    "                    pred = Predict(name, 0)\n",
    "                    results = pred.run(\"./metamodels/test_sets/\" + name_file2)\n",
    "                    pred_results = get_quality(results)\n",
    "                    ext_val.append([index, name2, 0, \"RF\"] + pred_results)\n",
    "\n",
    "        validation = pd.DataFrame(ext_val, columns=columns_val).sort_values(by=['endpoint', 'MCC'], ascending=[False, False])       \n",
    "        validation.to_csv(\"./metamodels/\" +name + \"_ev.tsv\", sep='\\t', index=False)\n",
    "        \n",
    "        \n",
    "\n",
    "            \n",
    "    \n",
    "    "
   ]
  },
  {
   "cell_type": "code",
   "execution_count": 199,
   "metadata": {},
   "outputs": [
    {
     "data": {
      "text/html": [
       "<table border=\"1\" class=\"dataframe\">\n",
       "  <thead>\n",
       "    <tr style=\"text-align: right;\">\n",
       "      <th></th>\n",
       "      <th>parent_nonstd_inkey</th>\n",
       "      <th>Jaundice_cholestatic</th>\n",
       "      <th>Hyperbilirubinaemia</th>\n",
       "      <th>Hepatic_failure</th>\n",
       "      <th>Cholelithiasis</th>\n",
       "      <th>Cholestasis</th>\n",
       "      <th>Hepatitis</th>\n",
       "      <th>Jaundice</th>\n",
       "      <th>Hepatobiliary_disease</th>\n",
       "      <th>Hepatomegaly</th>\n",
       "      <th>Hepatotoxicity</th>\n",
       "      <th>Hepatic_function_abnormal</th>\n",
       "      <th>DILI</th>\n",
       "    </tr>\n",
       "  </thead>\n",
       "  <tbody>\n",
       "    <tr>\n",
       "      <th>0</th>\n",
       "      <td>AAIMHYPMAWJDBG-UHFFFAOYNA-N</td>\n",
       "      <td>0</td>\n",
       "      <td>2</td>\n",
       "      <td>2</td>\n",
       "      <td>2</td>\n",
       "      <td>2</td>\n",
       "      <td>2</td>\n",
       "      <td>2</td>\n",
       "      <td>2</td>\n",
       "      <td>2</td>\n",
       "      <td>0</td>\n",
       "      <td>2</td>\n",
       "      <td>0.0</td>\n",
       "    </tr>\n",
       "    <tr>\n",
       "      <th>1</th>\n",
       "      <td>AAKJLRGGTJKAMG-IJFJLPMKNA-O</td>\n",
       "      <td>2</td>\n",
       "      <td>2</td>\n",
       "      <td>2</td>\n",
       "      <td>2</td>\n",
       "      <td>2</td>\n",
       "      <td>2</td>\n",
       "      <td>0</td>\n",
       "      <td>1</td>\n",
       "      <td>2</td>\n",
       "      <td>2</td>\n",
       "      <td>0</td>\n",
       "      <td>1.0</td>\n",
       "    </tr>\n",
       "    <tr>\n",
       "      <th>2</th>\n",
       "      <td>AAKJLRGGTJKAMG-LNNLXFCONA-N</td>\n",
       "      <td>2</td>\n",
       "      <td>2</td>\n",
       "      <td>2</td>\n",
       "      <td>2</td>\n",
       "      <td>2</td>\n",
       "      <td>1</td>\n",
       "      <td>0</td>\n",
       "      <td>1</td>\n",
       "      <td>2</td>\n",
       "      <td>1</td>\n",
       "      <td>0</td>\n",
       "      <td>1.0</td>\n",
       "    </tr>\n",
       "    <tr>\n",
       "      <th>3</th>\n",
       "      <td>AAOVKJBEBIDNHE-UHFFFAOYNA-N</td>\n",
       "      <td>0</td>\n",
       "      <td>0</td>\n",
       "      <td>0</td>\n",
       "      <td>2</td>\n",
       "      <td>0</td>\n",
       "      <td>2</td>\n",
       "      <td>1</td>\n",
       "      <td>1</td>\n",
       "      <td>2</td>\n",
       "      <td>0</td>\n",
       "      <td>1</td>\n",
       "      <td>1.0</td>\n",
       "    </tr>\n",
       "    <tr>\n",
       "      <th>4</th>\n",
       "      <td>AAQOQKQBGPPFNS-UHFFFAOYNA-N</td>\n",
       "      <td>0</td>\n",
       "      <td>2</td>\n",
       "      <td>0</td>\n",
       "      <td>2</td>\n",
       "      <td>2</td>\n",
       "      <td>2</td>\n",
       "      <td>2</td>\n",
       "      <td>0</td>\n",
       "      <td>0</td>\n",
       "      <td>0</td>\n",
       "      <td>2</td>\n",
       "      <td>0.0</td>\n",
       "    </tr>\n",
       "  </tbody>\n",
       "</table>"
      ],
      "text/plain": [
       "           parent_nonstd_inkey  Jaundice_cholestatic  Hyperbilirubinaemia  Hepatic_failure  Cholelithiasis  Cholestasis  Hepatitis  Jaundice  Hepatobiliary_disease  Hepatomegaly  Hepatotoxicity  Hepatic_function_abnormal  DILI\n",
       "0  AAIMHYPMAWJDBG-UHFFFAOYNA-N                     0                    2                2               2            2          2         2                      2             2               0                          2   0.0\n",
       "1  AAKJLRGGTJKAMG-IJFJLPMKNA-O                     2                    2                2               2            2          2         0                      1             2               2                          0   1.0\n",
       "2  AAKJLRGGTJKAMG-LNNLXFCONA-N                     2                    2                2               2            2          1         0                      1             2               1                          0   1.0\n",
       "3  AAOVKJBEBIDNHE-UHFFFAOYNA-N                     0                    0                0               2            0          2         1                      1             2               0                          1   1.0\n",
       "4  AAQOQKQBGPPFNS-UHFFFAOYNA-N                     0                    2                0               2            2          2         2                      0             0               0                          2   0.0"
      ]
     },
     "execution_count": 199,
     "metadata": {},
     "output_type": "execute_result"
    }
   ],
   "source": [
    "dbank.head()"
   ]
  },
  {
   "cell_type": "code",
   "execution_count": 205,
   "metadata": {},
   "outputs": [
    {
     "name": "stdout",
     "output_type": "stream",
     "text": [
      "rank_most\n"
     ]
    },
    {
     "name": "stderr",
     "output_type": "stream",
     "text": [
      "INFO - Running with input type: data\n",
      "INFO - Running with input type: data\n"
     ]
    },
    {
     "name": "stdout",
     "output_type": "stream",
     "text": [
      "       obj_num ( number of objects ) : 3917.0\n",
      "       TP ( True positives in external-validation ) : 228.0\n",
      "       TN ( True negatives in external-validation ) : 537.0\n",
      "       FP ( False positives in external-validation ) : 174.0\n",
      "       FN ( False negatives in external-validation ) : 187.0\n",
      "       Sensitivity ( Sensitivity in external-validation ) : 0.5494\n",
      "       Specificity ( Specificity in external-validation ) : 0.7553\n",
      "       MCC ( Mattews Correlation Coefficient in external-validation ) : 0.3068\n",
      "       Conformal_coverage ( Conformal coverage in external-validation ) : 0.2874\n",
      "       Conformal_accuracy ( Conformal accuracy in external-validation ) : 0.6794\n",
      "pfizer\n"
     ]
    },
    {
     "name": "stderr",
     "output_type": "stream",
     "text": [
      "INFO - Running with input type: data\n"
     ]
    },
    {
     "name": "stdout",
     "output_type": "stream",
     "text": [
      "       obj_num ( number of objects ) : 3918.0\n",
      "       TP ( True positives in external-validation ) : 130.0\n",
      "       TN ( True negatives in external-validation ) : 138.0\n",
      "       FP ( False positives in external-validation ) : 101.0\n",
      "       FN ( False negatives in external-validation ) : 68.0\n",
      "       Sensitivity ( Sensitivity in external-validation ) : 0.6566\n",
      "       Specificity ( Specificity in external-validation ) : 0.5774\n",
      "       MCC ( Mattews Correlation Coefficient in external-validation ) : 0.2333\n",
      "       Conformal_coverage ( Conformal coverage in external-validation ) : 0.1115\n",
      "       Conformal_accuracy ( Conformal accuracy in external-validation ) : 0.6133\n",
      "obrien\n",
      "mulliner\n",
      "       obj_num ( number of objects ) : 2505.0\n",
      "       TP ( True positives in external-validation ) : 271.0\n",
      "       TN ( True negatives in external-validation ) : 521.0\n",
      "       FP ( False positives in external-validation ) : 269.0\n",
      "       FN ( False negatives in external-validation ) : 123.0\n",
      "       Sensitivity ( Sensitivity in external-validation ) : 0.6878\n",
      "       Specificity ( Specificity in external-validation ) : 0.6595\n",
      "       MCC ( Mattews Correlation Coefficient in external-validation ) : 0.3286\n",
      "       Conformal_coverage ( Conformal coverage in external-validation ) : 0.4725\n",
      "       Conformal_accuracy ( Conformal accuracy in external-validation ) : 0.6689\n"
     ]
    }
   ],
   "source": [
    "dbank = pd.read_csv('predictions_drugbank_0.15.tsv', '\\t')\n",
    "\n",
    "drugbank = []\n",
    "for name, database in databases.items():\n",
    "    print(name)\n",
    "    if name != 'obrien':\n",
    "\n",
    "        database2 = remove_duplicates(dbank, database)\n",
    "        # save external prediction set\n",
    "        name_file2 = name + \"_test_on_drugbank.tsv\"\n",
    "        database2.to_csv(\"./metamodels/test_sets/\" + name_file2, sep='\\t', index=False)\n",
    "        pred = Predict(name, 0)\n",
    "        results = pred.run(\"./metamodels/test_sets/\" + name_file2)\n",
    "        pred_results = get_quality(results)\n",
    "        drugbank.append([name, 0, 'RF'])\n"
   ]
  },
  {
   "cell_type": "code",
   "execution_count": 208,
   "metadata": {},
   "outputs": [
    {
     "data": {
      "text/plain": [
       "0.0    2301\n",
       "1.0    1765\n",
       "Name: DILI, dtype: int64"
      ]
     },
     "execution_count": 208,
     "metadata": {},
     "output_type": "execute_result"
    }
   ],
   "source": [
    "dbank['DILI'].value_counts()\n"
   ]
  },
  {
   "cell_type": "code",
   "execution_count": null,
   "metadata": {},
   "outputs": [],
   "source": [
    "#pred = Predict('ltkb', 0)\n",
    "#results = pred.run(\"./metamodels/test_sets/pfizer_test_on_rank_most.tsv\")"
   ]
  },
  {
   "cell_type": "code",
   "execution_count": 206,
   "metadata": {},
   "outputs": [],
   "source": [
    "models = []\n",
    "for key in databases.keys():\n",
    "    models.append([key, 0])\n",
    "cross_val = get_cross_val_stats([['rank_most',0], ['pfizer', 0], ['mulliner', 0]])\n",
    "    "
   ]
  },
  {
   "cell_type": "code",
   "execution_count": 207,
   "metadata": {},
   "outputs": [],
   "source": [
    "cross_val.to_csv('./metamodels/cross_val_stats.tsv', sep='\\t')"
   ]
  },
  {
   "cell_type": "code",
   "execution_count": null,
   "metadata": {},
   "outputs": [],
   "source": [
    "results = pd.read_csv('metamodels/etransafe/output.tsv', sep='\\t',index_col=None)"
   ]
  },
  {
   "cell_type": "code",
   "execution_count": null,
   "metadata": {},
   "outputs": [],
   "source": [
    "final = []\n",
    "for index, row in results.iterrows():\n",
    "    c0 = row['c0']\n",
    "    c1 = row['c1']\n",
    "    name = row['obj_nam']\n",
    "    val = \"negative\"\n",
    "    ad = \"YES\"\n",
    "    if c0 == c1:\n",
    "        val = \"out of domain\"\n",
    "        ad = \"NO\"\n",
    "    else:\n",
    "        if c0:\n",
    "            val = val\n",
    "            \n",
    "        else:\n",
    "            val = 'positive'\n",
    "    final.append([name, val, \"pseudo confidence interval 85%\", ad])\n",
    "frame = pd.DataFrame(final, columns=['ID', 'Prediction', 'Probability(POS)', 'In Applicability Domain?', 'In Training Set?'])\n"
   ]
  },
  {
   "cell_type": "code",
   "execution_count": null,
   "metadata": {},
   "outputs": [],
   "source": [
    "frame['Prediction'].value_counts()"
   ]
  },
  {
   "cell_type": "code",
   "execution_count": null,
   "metadata": {},
   "outputs": [],
   "source": [
    "frame.to_csv('metamodels/etransafe/ai_test_results.tsv', sep='\\t', index=False)"
   ]
  },
  {
   "cell_type": "code",
   "execution_count": null,
   "metadata": {},
   "outputs": [],
   "source": [
    "exam = pd.read_csv('metamodels/etransafe/ai_example.csv', sep='\\t')\n",
    "exam.shape"
   ]
  },
  {
   "cell_type": "code",
   "execution_count": null,
   "metadata": {},
   "outputs": [],
   "source": [
    "subframe = exam[['ID', 'SMILES', \"In Training Set?\"]].reset_index(drop=True)"
   ]
  },
  {
   "cell_type": "code",
   "execution_count": null,
   "metadata": {},
   "outputs": [],
   "source": [
    "frame = frame.reset_index(drop=True)"
   ]
  },
  {
   "cell_type": "code",
   "execution_count": null,
   "metadata": {},
   "outputs": [],
   "source": [
    "frame2 = pd.merge(frame, subframe, on='ID', how='right')"
   ]
  },
  {
   "cell_type": "code",
   "execution_count": null,
   "metadata": {},
   "outputs": [],
   "source": [
    "frame2.to_csv(\"metamodels/etransafe/ai_meta_predictions.tsv\", sep='\\t', index=False)"
   ]
  },
  {
   "cell_type": "code",
   "execution_count": 279,
   "metadata": {},
   "outputs": [],
   "source": [
    "# Ambiguous DILI concern\n",
    "\n",
    "results = pd.read_csv('metamodels/ambiguous/output.tsv', sep='\\t',index_col=None)"
   ]
  },
  {
   "cell_type": "code",
   "execution_count": 280,
   "metadata": {},
   "outputs": [
    {
     "data": {
      "text/html": [
       "<table border=\"1\" class=\"dataframe\">\n",
       "  <thead>\n",
       "    <tr style=\"text-align: right;\">\n",
       "      <th></th>\n",
       "      <th>obj_nam</th>\n",
       "      <th>c0</th>\n",
       "      <th>c1</th>\n",
       "      <th>ymatrix</th>\n",
       "      <th>Unnamed: 4</th>\n",
       "    </tr>\n",
       "  </thead>\n",
       "  <tbody>\n",
       "    <tr>\n",
       "      <th>50</th>\n",
       "      <td>trimethobenzamide</td>\n",
       "      <td>True</td>\n",
       "      <td>False</td>\n",
       "      <td>0.0</td>\n",
       "      <td>NaN</td>\n",
       "    </tr>\n",
       "    <tr>\n",
       "      <th>51</th>\n",
       "      <td>vardenafil</td>\n",
       "      <td>False</td>\n",
       "      <td>True</td>\n",
       "      <td>0.0</td>\n",
       "      <td>NaN</td>\n",
       "    </tr>\n",
       "    <tr>\n",
       "      <th>52</th>\n",
       "      <td>verteporfin</td>\n",
       "      <td>True</td>\n",
       "      <td>True</td>\n",
       "      <td>0.0</td>\n",
       "      <td>NaN</td>\n",
       "    </tr>\n",
       "    <tr>\n",
       "      <th>53</th>\n",
       "      <td>vinorelbine</td>\n",
       "      <td>False</td>\n",
       "      <td>True</td>\n",
       "      <td>0.0</td>\n",
       "      <td>NaN</td>\n",
       "    </tr>\n",
       "    <tr>\n",
       "      <th>54</th>\n",
       "      <td>zolmitriptan</td>\n",
       "      <td>True</td>\n",
       "      <td>True</td>\n",
       "      <td>0.0</td>\n",
       "      <td>NaN</td>\n",
       "    </tr>\n",
       "  </tbody>\n",
       "</table>"
      ],
      "text/plain": [
       "              obj_nam     c0     c1  ymatrix  Unnamed: 4\n",
       "50  trimethobenzamide   True  False      0.0         NaN\n",
       "51         vardenafil  False   True      0.0         NaN\n",
       "52        verteporfin   True   True      0.0         NaN\n",
       "53        vinorelbine  False   True      0.0         NaN\n",
       "54       zolmitriptan   True   True      0.0         NaN"
      ]
     },
     "execution_count": 280,
     "metadata": {},
     "output_type": "execute_result"
    }
   ],
   "source": [
    "results.tail()"
   ]
  },
  {
   "cell_type": "code",
   "execution_count": 281,
   "metadata": {},
   "outputs": [],
   "source": [
    "final = []\n",
    "for index, row in results.iterrows():\n",
    "    c0 = row['c0']\n",
    "    c1 = row['c1']\n",
    "    name = row['obj_nam']\n",
    "    val = \"negative\"\n",
    "    ad = \"YES\"\n",
    "    if c0 == c1:\n",
    "        val = \"out of domain\"\n",
    "        ad = \"NO\"\n",
    "    else:\n",
    "        if c0:\n",
    "            val = val\n",
    "            \n",
    "        else:\n",
    "            val = 'positive'\n",
    "    final.append([name, val])\n",
    "frame = pd.DataFrame(final, columns=['ID', 'Prediction'])\n"
   ]
  },
  {
   "cell_type": "code",
   "execution_count": 282,
   "metadata": {},
   "outputs": [],
   "source": [
    "mulli = frame"
   ]
  },
  {
   "cell_type": "code",
   "execution_count": 283,
   "metadata": {},
   "outputs": [
    {
     "data": {
      "text/plain": [
       "out of domain    24\n",
       "negative         16\n",
       "positive         15\n",
       "Name: Prediction, dtype: int64"
      ]
     },
     "execution_count": 283,
     "metadata": {},
     "output_type": "execute_result"
    }
   ],
   "source": [
    "mulli['Prediction'].value_counts()"
   ]
  },
  {
   "cell_type": "code",
   "execution_count": 284,
   "metadata": {},
   "outputs": [],
   "source": [
    "frame_p = pd.DataFrame()\n",
    "frame_p['name'] = rankP['ID']\n",
    "frame_p['DILIrank_most'] = rankP['Prediction']\n",
    "frame_p['Mulliner'] = mulli['Prediction']"
   ]
  },
  {
   "cell_type": "code",
   "execution_count": 285,
   "metadata": {},
   "outputs": [
    {
     "data": {
      "text/html": [
       "<table border=\"1\" class=\"dataframe\">\n",
       "  <thead>\n",
       "    <tr style=\"text-align: right;\">\n",
       "      <th></th>\n",
       "      <th>name</th>\n",
       "      <th>DILIrank_most</th>\n",
       "      <th>Mulliner</th>\n",
       "    </tr>\n",
       "  </thead>\n",
       "  <tbody>\n",
       "    <tr>\n",
       "      <th>0</th>\n",
       "      <td>amantadine</td>\n",
       "      <td>out of domain</td>\n",
       "      <td>negative</td>\n",
       "    </tr>\n",
       "    <tr>\n",
       "      <th>1</th>\n",
       "      <td>amoxapine</td>\n",
       "      <td>out of domain</td>\n",
       "      <td>negative</td>\n",
       "    </tr>\n",
       "    <tr>\n",
       "      <th>2</th>\n",
       "      <td>anagrelide</td>\n",
       "      <td>out of domain</td>\n",
       "      <td>out of domain</td>\n",
       "    </tr>\n",
       "    <tr>\n",
       "      <th>3</th>\n",
       "      <td>aprepitant</td>\n",
       "      <td>out of domain</td>\n",
       "      <td>out of domain</td>\n",
       "    </tr>\n",
       "    <tr>\n",
       "      <th>4</th>\n",
       "      <td>betaxolol</td>\n",
       "      <td>negative</td>\n",
       "      <td>negative</td>\n",
       "    </tr>\n",
       "    <tr>\n",
       "      <th>5</th>\n",
       "      <td>bisoprolol</td>\n",
       "      <td>negative</td>\n",
       "      <td>negative</td>\n",
       "    </tr>\n",
       "    <tr>\n",
       "      <th>6</th>\n",
       "      <td>bumetanide</td>\n",
       "      <td>out of domain</td>\n",
       "      <td>out of domain</td>\n",
       "    </tr>\n",
       "    <tr>\n",
       "      <th>7</th>\n",
       "      <td>chlorthalidone</td>\n",
       "      <td>out of domain</td>\n",
       "      <td>positive</td>\n",
       "    </tr>\n",
       "    <tr>\n",
       "      <th>8</th>\n",
       "      <td>cilostazol</td>\n",
       "      <td>positive</td>\n",
       "      <td>out of domain</td>\n",
       "    </tr>\n",
       "    <tr>\n",
       "      <th>9</th>\n",
       "      <td>clonidine</td>\n",
       "      <td>positive</td>\n",
       "      <td>out of domain</td>\n",
       "    </tr>\n",
       "    <tr>\n",
       "      <th>10</th>\n",
       "      <td>desipramine</td>\n",
       "      <td>out of domain</td>\n",
       "      <td>negative</td>\n",
       "    </tr>\n",
       "    <tr>\n",
       "      <th>11</th>\n",
       "      <td>dexamethasone</td>\n",
       "      <td>negative</td>\n",
       "      <td>negative</td>\n",
       "    </tr>\n",
       "    <tr>\n",
       "      <th>12</th>\n",
       "      <td>dexrazoxane</td>\n",
       "      <td>negative</td>\n",
       "      <td>negative</td>\n",
       "    </tr>\n",
       "    <tr>\n",
       "      <th>13</th>\n",
       "      <td>diazoxide</td>\n",
       "      <td>out of domain</td>\n",
       "      <td>out of domain</td>\n",
       "    </tr>\n",
       "    <tr>\n",
       "      <th>14</th>\n",
       "      <td>dipyridamole</td>\n",
       "      <td>out of domain</td>\n",
       "      <td>out of domain</td>\n",
       "    </tr>\n",
       "    <tr>\n",
       "      <th>15</th>\n",
       "      <td>entecavir</td>\n",
       "      <td>out of domain</td>\n",
       "      <td>positive</td>\n",
       "    </tr>\n",
       "    <tr>\n",
       "      <th>16</th>\n",
       "      <td>epirubicin</td>\n",
       "      <td>out of domain</td>\n",
       "      <td>positive</td>\n",
       "    </tr>\n",
       "    <tr>\n",
       "      <th>17</th>\n",
       "      <td>eplerenone</td>\n",
       "      <td>out of domain</td>\n",
       "      <td>negative</td>\n",
       "    </tr>\n",
       "    <tr>\n",
       "      <th>18</th>\n",
       "      <td>estrone</td>\n",
       "      <td>out of domain</td>\n",
       "      <td>out of domain</td>\n",
       "    </tr>\n",
       "    <tr>\n",
       "      <th>19</th>\n",
       "      <td>estropipate</td>\n",
       "      <td>out of domain</td>\n",
       "      <td>out of domain</td>\n",
       "    </tr>\n",
       "    <tr>\n",
       "      <th>20</th>\n",
       "      <td>everolimus</td>\n",
       "      <td>out of domain</td>\n",
       "      <td>positive</td>\n",
       "    </tr>\n",
       "    <tr>\n",
       "      <th>21</th>\n",
       "      <td>famciclovir</td>\n",
       "      <td>out of domain</td>\n",
       "      <td>negative</td>\n",
       "    </tr>\n",
       "    <tr>\n",
       "      <th>22</th>\n",
       "      <td>fluphenazine</td>\n",
       "      <td>out of domain</td>\n",
       "      <td>positive</td>\n",
       "    </tr>\n",
       "    <tr>\n",
       "      <th>23</th>\n",
       "      <td>fulvestrant</td>\n",
       "      <td>positive</td>\n",
       "      <td>positive</td>\n",
       "    </tr>\n",
       "    <tr>\n",
       "      <th>24</th>\n",
       "      <td>guanfacine</td>\n",
       "      <td>negative</td>\n",
       "      <td>out of domain</td>\n",
       "    </tr>\n",
       "    <tr>\n",
       "      <th>25</th>\n",
       "      <td>iloperidone</td>\n",
       "      <td>positive</td>\n",
       "      <td>out of domain</td>\n",
       "    </tr>\n",
       "    <tr>\n",
       "      <th>26</th>\n",
       "      <td>maprotiline</td>\n",
       "      <td>out of domain</td>\n",
       "      <td>negative</td>\n",
       "    </tr>\n",
       "    <tr>\n",
       "      <th>27</th>\n",
       "      <td>mesoridazine</td>\n",
       "      <td>negative</td>\n",
       "      <td>negative</td>\n",
       "    </tr>\n",
       "    <tr>\n",
       "      <th>28</th>\n",
       "      <td>methocarbamol</td>\n",
       "      <td>negative</td>\n",
       "      <td>negative</td>\n",
       "    </tr>\n",
       "    <tr>\n",
       "      <th>29</th>\n",
       "      <td>metolazone</td>\n",
       "      <td>positive</td>\n",
       "      <td>positive</td>\n",
       "    </tr>\n",
       "    <tr>\n",
       "      <th>30</th>\n",
       "      <td>milrinone</td>\n",
       "      <td>out of domain</td>\n",
       "      <td>positive</td>\n",
       "    </tr>\n",
       "    <tr>\n",
       "      <th>31</th>\n",
       "      <td>moexipril</td>\n",
       "      <td>out of domain</td>\n",
       "      <td>out of domain</td>\n",
       "    </tr>\n",
       "    <tr>\n",
       "      <th>32</th>\n",
       "      <td>nadolol</td>\n",
       "      <td>out of domain</td>\n",
       "      <td>negative</td>\n",
       "    </tr>\n",
       "    <tr>\n",
       "      <th>33</th>\n",
       "      <td>naltrexone</td>\n",
       "      <td>negative</td>\n",
       "      <td>negative</td>\n",
       "    </tr>\n",
       "    <tr>\n",
       "      <th>34</th>\n",
       "      <td>nateglinide</td>\n",
       "      <td>out of domain</td>\n",
       "      <td>positive</td>\n",
       "    </tr>\n",
       "    <tr>\n",
       "      <th>35</th>\n",
       "      <td>nilotinib</td>\n",
       "      <td>out of domain</td>\n",
       "      <td>positive</td>\n",
       "    </tr>\n",
       "    <tr>\n",
       "      <th>36</th>\n",
       "      <td>nimodipine</td>\n",
       "      <td>out of domain</td>\n",
       "      <td>out of domain</td>\n",
       "    </tr>\n",
       "    <tr>\n",
       "      <th>37</th>\n",
       "      <td>pentoxifylline</td>\n",
       "      <td>out of domain</td>\n",
       "      <td>positive</td>\n",
       "    </tr>\n",
       "    <tr>\n",
       "      <th>38</th>\n",
       "      <td>pergolide</td>\n",
       "      <td>negative</td>\n",
       "      <td>negative</td>\n",
       "    </tr>\n",
       "    <tr>\n",
       "      <th>39</th>\n",
       "      <td>perindopril</td>\n",
       "      <td>out of domain</td>\n",
       "      <td>out of domain</td>\n",
       "    </tr>\n",
       "    <tr>\n",
       "      <th>40</th>\n",
       "      <td>praziquantel</td>\n",
       "      <td>negative</td>\n",
       "      <td>out of domain</td>\n",
       "    </tr>\n",
       "    <tr>\n",
       "      <th>41</th>\n",
       "      <td>prazosin</td>\n",
       "      <td>out of domain</td>\n",
       "      <td>out of domain</td>\n",
       "    </tr>\n",
       "    <tr>\n",
       "      <th>42</th>\n",
       "      <td>probenecid</td>\n",
       "      <td>out of domain</td>\n",
       "      <td>out of domain</td>\n",
       "    </tr>\n",
       "    <tr>\n",
       "      <th>43</th>\n",
       "      <td>tadalafil</td>\n",
       "      <td>negative</td>\n",
       "      <td>out of domain</td>\n",
       "    </tr>\n",
       "    <tr>\n",
       "      <th>44</th>\n",
       "      <td>thiothixene</td>\n",
       "      <td>out of domain</td>\n",
       "      <td>positive</td>\n",
       "    </tr>\n",
       "    <tr>\n",
       "      <th>45</th>\n",
       "      <td>timolol</td>\n",
       "      <td>out of domain</td>\n",
       "      <td>out of domain</td>\n",
       "    </tr>\n",
       "    <tr>\n",
       "      <th>46</th>\n",
       "      <td>tolbutamide</td>\n",
       "      <td>negative</td>\n",
       "      <td>out of domain</td>\n",
       "    </tr>\n",
       "    <tr>\n",
       "      <th>47</th>\n",
       "      <td>toremifene</td>\n",
       "      <td>out of domain</td>\n",
       "      <td>positive</td>\n",
       "    </tr>\n",
       "    <tr>\n",
       "      <th>48</th>\n",
       "      <td>tramadol</td>\n",
       "      <td>negative</td>\n",
       "      <td>out of domain</td>\n",
       "    </tr>\n",
       "    <tr>\n",
       "      <th>49</th>\n",
       "      <td>tretinoin</td>\n",
       "      <td>out of domain</td>\n",
       "      <td>out of domain</td>\n",
       "    </tr>\n",
       "    <tr>\n",
       "      <th>50</th>\n",
       "      <td>trimethobenzamide</td>\n",
       "      <td>out of domain</td>\n",
       "      <td>negative</td>\n",
       "    </tr>\n",
       "    <tr>\n",
       "      <th>51</th>\n",
       "      <td>vardenafil</td>\n",
       "      <td>out of domain</td>\n",
       "      <td>positive</td>\n",
       "    </tr>\n",
       "    <tr>\n",
       "      <th>52</th>\n",
       "      <td>verteporfin</td>\n",
       "      <td>out of domain</td>\n",
       "      <td>out of domain</td>\n",
       "    </tr>\n",
       "    <tr>\n",
       "      <th>53</th>\n",
       "      <td>vinorelbine</td>\n",
       "      <td>out of domain</td>\n",
       "      <td>positive</td>\n",
       "    </tr>\n",
       "    <tr>\n",
       "      <th>54</th>\n",
       "      <td>zolmitriptan</td>\n",
       "      <td>negative</td>\n",
       "      <td>out of domain</td>\n",
       "    </tr>\n",
       "  </tbody>\n",
       "</table>"
      ],
      "text/plain": [
       "                 name  DILIrank_most       Mulliner\n",
       "0          amantadine  out of domain       negative\n",
       "1           amoxapine  out of domain       negative\n",
       "2          anagrelide  out of domain  out of domain\n",
       "3          aprepitant  out of domain  out of domain\n",
       "4           betaxolol       negative       negative\n",
       "5          bisoprolol       negative       negative\n",
       "6          bumetanide  out of domain  out of domain\n",
       "7      chlorthalidone  out of domain       positive\n",
       "8          cilostazol       positive  out of domain\n",
       "9           clonidine       positive  out of domain\n",
       "10        desipramine  out of domain       negative\n",
       "11      dexamethasone       negative       negative\n",
       "12        dexrazoxane       negative       negative\n",
       "13          diazoxide  out of domain  out of domain\n",
       "14       dipyridamole  out of domain  out of domain\n",
       "15          entecavir  out of domain       positive\n",
       "16         epirubicin  out of domain       positive\n",
       "17         eplerenone  out of domain       negative\n",
       "18            estrone  out of domain  out of domain\n",
       "19        estropipate  out of domain  out of domain\n",
       "20         everolimus  out of domain       positive\n",
       "21        famciclovir  out of domain       negative\n",
       "22       fluphenazine  out of domain       positive\n",
       "23        fulvestrant       positive       positive\n",
       "24         guanfacine       negative  out of domain\n",
       "25        iloperidone       positive  out of domain\n",
       "26        maprotiline  out of domain       negative\n",
       "27       mesoridazine       negative       negative\n",
       "28      methocarbamol       negative       negative\n",
       "29         metolazone       positive       positive\n",
       "30          milrinone  out of domain       positive\n",
       "31          moexipril  out of domain  out of domain\n",
       "32            nadolol  out of domain       negative\n",
       "33         naltrexone       negative       negative\n",
       "34        nateglinide  out of domain       positive\n",
       "35          nilotinib  out of domain       positive\n",
       "36         nimodipine  out of domain  out of domain\n",
       "37     pentoxifylline  out of domain       positive\n",
       "38          pergolide       negative       negative\n",
       "39        perindopril  out of domain  out of domain\n",
       "40       praziquantel       negative  out of domain\n",
       "41           prazosin  out of domain  out of domain\n",
       "42         probenecid  out of domain  out of domain\n",
       "43          tadalafil       negative  out of domain\n",
       "44        thiothixene  out of domain       positive\n",
       "45            timolol  out of domain  out of domain\n",
       "46        tolbutamide       negative  out of domain\n",
       "47         toremifene  out of domain       positive\n",
       "48           tramadol       negative  out of domain\n",
       "49          tretinoin  out of domain  out of domain\n",
       "50  trimethobenzamide  out of domain       negative\n",
       "51         vardenafil  out of domain       positive\n",
       "52        verteporfin  out of domain  out of domain\n",
       "53        vinorelbine  out of domain       positive\n",
       "54       zolmitriptan       negative  out of domain"
      ]
     },
     "execution_count": 285,
     "metadata": {},
     "output_type": "execute_result"
    }
   ],
   "source": [
    "frame_p"
   ]
  },
  {
   "cell_type": "code",
   "execution_count": 286,
   "metadata": {},
   "outputs": [],
   "source": [
    "frame_p.to_csv('ambiguous_predictions.csv', sep='\\t', index_label=None)"
   ]
  },
  {
   "cell_type": "code",
   "execution_count": null,
   "metadata": {},
   "outputs": [],
   "source": []
  }
 ],
 "metadata": {
  "kernelspec": {
   "display_name": "Python 3",
   "language": "python",
   "name": "python3"
  },
  "language_info": {
   "codemirror_mode": {
    "name": "ipython",
    "version": 3
   },
   "file_extension": ".py",
   "mimetype": "text/x-python",
   "name": "python",
   "nbconvert_exporter": "python",
   "pygments_lexer": "ipython3",
   "version": "3.6.8"
  }
 },
 "nbformat": 4,
 "nbformat_minor": 2
}
